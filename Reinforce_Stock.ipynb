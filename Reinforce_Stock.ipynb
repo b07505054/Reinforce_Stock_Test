{
  "nbformat": 4,
  "nbformat_minor": 0,
  "metadata": {
    "colab": {
      "provenance": []
    },
    "kernelspec": {
      "name": "python3",
      "display_name": "Python 3"
    },
    "language_info": {
      "name": "python"
    }
  },
  "cells": [
    {
      "cell_type": "code",
      "source": [
        "!pip install stable_baselines3\n",
        "!pip install shimmy"
      ],
      "metadata": {
        "id": "kzBDCF6Ba5Nj"
      },
      "execution_count": null,
      "outputs": []
    },
    {
      "cell_type": "code",
      "execution_count": null,
      "metadata": {
        "id": "IviBjVazPaW2",
        "colab": {
          "base_uri": "https://localhost:8080/"
        },
        "outputId": "8fe44ba3-98d8-4c09-86c2-c0f9108bec40"
      },
      "outputs": [
        {
          "output_type": "stream",
          "name": "stderr",
          "text": [
            "/tmp/ipython-input-3498285090.py:3: FutureWarning: YF.download() has changed argument auto_adjust default to True\n",
            "  data = yf.download(\"AAPL\", start=\"2015-01-01\", end=\"2020-01-01\")\n",
            "[*********************100%***********************]  1 of 1 completed"
          ]
        },
        {
          "output_type": "stream",
          "name": "stdout",
          "text": [
            "Price           Close       High        Low       Open     Volume\n",
            "Ticker           AAPL       AAPL       AAPL       AAPL       AAPL\n",
            "Date                                                             \n",
            "2015-01-02  24.261049  24.729272  23.821673  24.718176  212818400\n",
            "2015-01-05  23.577574  24.110150  23.391173  24.030263  257142000\n",
            "2015-01-06  23.579798  23.839428  23.218089  23.641931  263188400\n",
            "2015-01-07  23.910437  24.010294  23.677434  23.788387  160423600\n",
            "2015-01-08  24.829130  24.886826  24.121248  24.238859  237458000\n"
          ]
        },
        {
          "output_type": "stream",
          "name": "stderr",
          "text": [
            "\n"
          ]
        }
      ],
      "source": [
        "import yfinance as yf\n",
        "\n",
        "data = yf.download(\"AAPL\", start=\"2015-01-01\", end=\"2020-01-01\")\n",
        "print(data.head())\n"
      ]
    },
    {
      "cell_type": "code",
      "source": [
        "import gym\n",
        "import numpy as np\n",
        "from stable_baselines3 import PPO\n",
        "\n",
        "class StockEnv(gym.Env):\n",
        "    def __init__(self, prices):\n",
        "        super(StockEnv, self).__init__()\n",
        "        self.prices = prices\n",
        "        self.current_step = 0\n",
        "        self.balance = 10000\n",
        "        self.shares = 0\n",
        "        self.action_space = gym.spaces.Discrete(3)  # 0=Hold,1=Buy,2=Sell\n",
        "        self.observation_space = gym.spaces.Box(low=0, high=np.inf, shape=(1,))\n",
        "\n",
        "    def reset(self):\n",
        "        self.current_step = 0\n",
        "        self.balance = 10000\n",
        "        self.shares = 0\n",
        "        return np.array([self.prices[self.current_step]])\n",
        "\n",
        "    def step(self, action):\n",
        "        price = self.prices[self.current_step]\n",
        "        if action == 1 and self.balance >= price:   # Buy\n",
        "            self.shares += 1\n",
        "            self.balance -= price\n",
        "        elif action == 2 and self.shares > 0:       # Sell\n",
        "            self.shares -= 1\n",
        "            self.balance += price\n",
        "\n",
        "        self.current_step += 1\n",
        "        done = (self.current_step >= len(self.prices)-1)\n",
        "        portfolio = self.balance + self.shares * self.prices[self.current_step]\n",
        "        reward = portfolio - 10000  # reward = 相對於初始資產\n",
        "        obs = np.array([self.prices[self.current_step]])\n",
        "        return obs, reward, done, {}\n"
      ],
      "metadata": {
        "colab": {
          "base_uri": "https://localhost:8080/"
        },
        "id": "z9-wOpIPa1Sh",
        "outputId": "b37b8532-5355-4ea1-e8b1-d4f76d72fe8b"
      },
      "execution_count": null,
      "outputs": [
        {
          "output_type": "stream",
          "name": "stderr",
          "text": [
            "/usr/local/lib/python3.12/dist-packages/jupyter_client/session.py:151: DeprecationWarning: datetime.datetime.utcnow() is deprecated and scheduled for removal in a future version. Use timezone-aware objects to represent datetimes in UTC: datetime.datetime.now(datetime.UTC).\n",
            "  return datetime.utcnow().replace(tzinfo=utc)\n"
          ]
        }
      ]
    },
    {
      "cell_type": "code",
      "source": [
        "env = StockEnv(prices=data[\"Close\"].values[:1000])\n",
        "model = PPO(\"MlpPolicy\", env, verbose=1)\n",
        "model.learn(total_timesteps=10000)\n"
      ],
      "metadata": {
        "colab": {
          "base_uri": "https://localhost:8080/"
        },
        "id": "9nHiOzEua218",
        "outputId": "209ac525-d96b-44ea-de1d-53c2dce95f52"
      },
      "execution_count": null,
      "outputs": [
        {
          "output_type": "stream",
          "name": "stdout",
          "text": [
            "Using cpu device\n",
            "Wrapping the env with a `Monitor` wrapper\n",
            "Wrapping the env in a DummyVecEnv.\n"
          ]
        },
        {
          "output_type": "stream",
          "name": "stderr",
          "text": [
            "/usr/local/lib/python3.12/dist-packages/stable_baselines3/common/vec_env/patch_gym.py:49: UserWarning: You provided an OpenAI Gym environment. We strongly recommend transitioning to Gymnasium environments. Stable-Baselines3 is automatically wrapping your environments in a compatibility layer, which could potentially cause issues.\n",
            "  warnings.warn(\n",
            "/usr/local/lib/python3.12/dist-packages/stable_baselines3/common/monitor.py:95: DeprecationWarning: Conversion of an array with ndim > 0 to a scalar is deprecated, and will error in future. Ensure you extract a single element from your array before performing this operation. (Deprecated NumPy 1.25.)\n",
            "  self.rewards.append(float(reward))\n",
            "/usr/local/lib/python3.12/dist-packages/stable_baselines3/common/vec_env/dummy_vec_env.py:59: DeprecationWarning: Conversion of an array with ndim > 0 to a scalar is deprecated, and will error in future. Ensure you extract a single element from your array before performing this operation. (Deprecated NumPy 1.25.)\n",
            "  obs, self.buf_rews[env_idx], terminated, truncated, self.buf_infos[env_idx] = self.envs[env_idx].step(  # type: ignore[assignment]\n",
            "/usr/local/lib/python3.12/dist-packages/jupyter_client/session.py:151: DeprecationWarning: datetime.datetime.utcnow() is deprecated and scheduled for removal in a future version. Use timezone-aware objects to represent datetimes in UTC: datetime.datetime.now(datetime.UTC).\n",
            "  return datetime.utcnow().replace(tzinfo=utc)\n"
          ]
        },
        {
          "output_type": "stream",
          "name": "stdout",
          "text": [
            "---------------------------------\n",
            "| rollout/           |          |\n",
            "|    ep_len_mean     | 999      |\n",
            "|    ep_rew_mean     | 9.84e+04 |\n",
            "| time/              |          |\n",
            "|    fps             | 1227     |\n",
            "|    iterations      | 1        |\n",
            "|    time_elapsed    | 1        |\n",
            "|    total_timesteps | 2048     |\n",
            "---------------------------------\n",
            "-----------------------------------------\n",
            "| rollout/                |             |\n",
            "|    ep_len_mean          | 999         |\n",
            "|    ep_rew_mean          | 8.48e+04    |\n",
            "| time/                   |             |\n",
            "|    fps                  | 932         |\n",
            "|    iterations           | 2           |\n",
            "|    time_elapsed         | 4           |\n",
            "|    total_timesteps      | 4096        |\n",
            "| train/                  |             |\n",
            "|    approx_kl            | 0.009871546 |\n",
            "|    clip_fraction        | 0           |\n",
            "|    clip_range           | 0.2         |\n",
            "|    entropy_loss         | -1.1        |\n",
            "|    explained_variance   | 9.12e-06    |\n",
            "|    learning_rate        | 0.0003      |\n",
            "|    loss                 | 6.83e+06    |\n",
            "|    n_updates            | 10          |\n",
            "|    policy_gradient_loss | -0.00301    |\n",
            "|    value_loss           | 1.19e+07    |\n",
            "-----------------------------------------\n",
            "-----------------------------------------\n",
            "| rollout/                |             |\n",
            "|    ep_len_mean          | 999         |\n",
            "|    ep_rew_mean          | 1.74e+05    |\n",
            "| time/                   |             |\n",
            "|    fps                  | 785         |\n",
            "|    iterations           | 3           |\n",
            "|    time_elapsed         | 7           |\n",
            "|    total_timesteps      | 6144        |\n",
            "| train/                  |             |\n",
            "|    approx_kl            | 0.012834834 |\n",
            "|    clip_fraction        | 0.0563      |\n",
            "|    clip_range           | 0.2         |\n",
            "|    entropy_loss         | -1.07       |\n",
            "|    explained_variance   | 6.51e-05    |\n",
            "|    learning_rate        | 0.0003      |\n",
            "|    loss                 | 2.33e+06    |\n",
            "|    n_updates            | 20          |\n",
            "|    policy_gradient_loss | -0.00743    |\n",
            "|    value_loss           | 4.46e+06    |\n",
            "-----------------------------------------\n",
            "-------------------------------------------\n",
            "| rollout/                |               |\n",
            "|    ep_len_mean          | 999           |\n",
            "|    ep_rew_mean          | 2.31e+05      |\n",
            "| time/                   |               |\n",
            "|    fps                  | 774           |\n",
            "|    iterations           | 4             |\n",
            "|    time_elapsed         | 10            |\n",
            "|    total_timesteps      | 8192          |\n",
            "| train/                  |               |\n",
            "|    approx_kl            | 7.0499664e-06 |\n",
            "|    clip_fraction        | 0             |\n",
            "|    clip_range           | 0.2           |\n",
            "|    entropy_loss         | -1.06         |\n",
            "|    explained_variance   | 2.38e-06      |\n",
            "|    learning_rate        | 0.0003        |\n",
            "|    loss                 | 5.15e+07      |\n",
            "|    n_updates            | 30            |\n",
            "|    policy_gradient_loss | 4.56e-05      |\n",
            "|    value_loss           | 9.09e+07      |\n",
            "-------------------------------------------\n",
            "-----------------------------------------\n",
            "| rollout/                |             |\n",
            "|    ep_len_mean          | 999         |\n",
            "|    ep_rew_mean          | 2.96e+05    |\n",
            "| time/                   |             |\n",
            "|    fps                  | 757         |\n",
            "|    iterations           | 5           |\n",
            "|    time_elapsed         | 13          |\n",
            "|    total_timesteps      | 10240       |\n",
            "| train/                  |             |\n",
            "|    approx_kl            | 0.001122707 |\n",
            "|    clip_fraction        | 0           |\n",
            "|    clip_range           | 0.2         |\n",
            "|    entropy_loss         | -1.05       |\n",
            "|    explained_variance   | 7.75e-07    |\n",
            "|    learning_rate        | 0.0003      |\n",
            "|    loss                 | 7.56e+07    |\n",
            "|    n_updates            | 40          |\n",
            "|    policy_gradient_loss | -0.00135    |\n",
            "|    value_loss           | 1.37e+08    |\n",
            "-----------------------------------------\n"
          ]
        },
        {
          "output_type": "execute_result",
          "data": {
            "text/plain": [
              "<stable_baselines3.ppo.ppo.PPO at 0x784fdca14ef0>"
            ]
          },
          "metadata": {},
          "execution_count": 7
        }
      ]
    }
  ]
}